{
 "cells": [
  {
   "cell_type": "code",
   "execution_count": 3,
   "metadata": {},
   "outputs": [
    {
     "name": "stdout",
     "output_type": "stream",
     "text": [
      "FOREWORD\n",
      "\n",
      "NEw York, N. Y.\n",
      "August 13, 1928.\n",
      "\n",
      "I was glad when I heard that Joseph Lewis French was\n",
      "going to turn his attention to air adventures; especially because\n",
      "he planned to prepare a recital of them for boy readers.\n",
      "\n",
      "Aviation still belongs essentially to youth. The boy of today\n",
      "may be flying in five years. Certainly in ten he will be a factor\n",
      "in the progress of flying if only as a regular passenger.\n",
      "\n",
      "Another thing, it is the duty of those of us who are here\n",
      "today to preserve in accurate detail the history of flying for\n",
      "those who come after us. Mr. French has done this before\n",
      "for the sea. He has now done it equally well for the air.\n",
      "\n",
      "I write this brief word on the eve of sailing south toward the\n",
      "antaretic. With me will go a Boy Scout and three other young\n",
      "men who are still undergraduates. One reason why I am\n",
      "taking these lads is that the spirit and enthusiasm of a man\n",
      "is greatest before he is twenty-five. I feel they will be a tonic\n",
      "stimulant for my whole party.\n",
      "\n",
      "And America, as well as I, depends on her boys.\n",
      "\n",
      "Rute AB A\n",
      "\n",
      "ee,\n"
     ]
    }
   ],
   "source": [
    "from PIL import Image\n",
    "import pytesseract\n",
    "im = Image.open(\"test2.png\")\n",
    "im.show()\n",
    "text = pytesseract.image_to_string(im, lang = 'eng')\n",
    "print(text)"
   ]
  },
  {
   "cell_type": "code",
   "execution_count": 4,
   "metadata": {},
   "outputs": [
    {
     "name": "stdout",
     "output_type": "stream",
     "text": [
      "THIS PROPERTY\n",
      "| 1S PROTECTED BY\n",
      "| VIDEO | SURVEILLANCE |\n"
     ]
    }
   ],
   "source": [
    "from PIL import Image\n",
    "import pytesseract\n",
    "im = Image.open(\"test2.jpg\")\n",
    "im.show()\n",
    "text = pytesseract.image_to_string(im, lang = 'eng')\n",
    "print(text)"
   ]
  },
  {
   "cell_type": "code",
   "execution_count": null,
   "metadata": {},
   "outputs": [],
   "source": []
  }
 ],
 "metadata": {
  "kernelspec": {
   "display_name": "Python 3",
   "language": "python",
   "name": "python3"
  },
  "language_info": {
   "codemirror_mode": {
    "name": "ipython",
    "version": 3
   },
   "file_extension": ".py",
   "mimetype": "text/x-python",
   "name": "python",
   "nbconvert_exporter": "python",
   "pygments_lexer": "ipython3",
   "version": "3.6.5"
  }
 },
 "nbformat": 4,
 "nbformat_minor": 2
}
